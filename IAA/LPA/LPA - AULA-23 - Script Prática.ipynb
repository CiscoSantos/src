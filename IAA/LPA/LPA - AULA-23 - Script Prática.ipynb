{
  "cells": [
    {
      "cell_type": "markdown",
      "metadata": {
        "id": "gXH7bxwkSph3"
      },
      "source": [
        "\n",
        "## LPA - Prática - Aula 23 - 4.3 Resolução do exercício\n",
        "---"
      ]
    },
    {
      "cell_type": "markdown",
      "metadata": {
        "id": "WoWtvYniWvy4"
      },
      "source": [
        "## Parte 1 - Importação das bibliotecas"
      ]
    },
    {
      "cell_type": "code",
      "execution_count": 2,
      "metadata": {},
      "outputs": [],
      "source": [
        "# Biblioteca Pandas - Manipulação de dados\n",
        "import pandas as pd\n",
        "# Biblioteca Seaborn - Criação de gráficos\n",
        "import seaborn as sns\n",
        "# Biblioteca Matplotlib - Criação de gráficos\n",
        "import matplotlib.pyplot as plt\n",
        "\n",
        "# OPCIONAL - Biblioteca para ignorar mensagens de warning (aviso) ao rodar uma célula de código\n",
        "import warnings\n",
        "warnings.filterwarnings('ignore')"
      ]
    },
    {
      "cell_type": "markdown",
      "metadata": {},
      "source": [
        "---\n",
        "## Parte 2 - Importação das dos dados"
      ]
    },
    {
      "cell_type": "code",
      "execution_count": 3,
      "metadata": {},
      "outputs": [],
      "source": [
        "# Função read_csv para importar os dados da pasta do computador\n",
        "dados = pd.read_csv('dados_salarial_funcionarios.csv')"
      ]
    },
    {
      "cell_type": "code",
      "execution_count": 4,
      "metadata": {},
      "outputs": [
        {
          "data": {
            "text/plain": [
              "Index(['Idade', 'Genero', 'Nivel Ensino', 'Area Formacao', 'Setor', 'Nivel',\n",
              "       'Faixa Salarial', 'Anos experiencia', 'Faixa Salarial – numero',\n",
              "       'Data ultimo aumento'],\n",
              "      dtype='object')"
            ]
          },
          "execution_count": 4,
          "metadata": {},
          "output_type": "execute_result"
        }
      ],
      "source": [
        "# Listando o nome das colunas\n",
        "dados.columns"
      ]
    },
    {
      "cell_type": "code",
      "execution_count": 5,
      "metadata": {
        "colab": {
          "base_uri": "https://localhost:8080/",
          "height": 716
        },
        "id": "acunDqYqepLw",
        "outputId": "3f8009d0-7f17-4992-8616-5417da1f11b9"
      },
      "outputs": [
        {
          "data": {
            "text/html": [
              "<div>\n",
              "<style scoped>\n",
              "    .dataframe tbody tr th:only-of-type {\n",
              "        vertical-align: middle;\n",
              "    }\n",
              "\n",
              "    .dataframe tbody tr th {\n",
              "        vertical-align: top;\n",
              "    }\n",
              "\n",
              "    .dataframe thead th {\n",
              "        text-align: right;\n",
              "    }\n",
              "</style>\n",
              "<table border=\"1\" class=\"dataframe\">\n",
              "  <thead>\n",
              "    <tr style=\"text-align: right;\">\n",
              "      <th></th>\n",
              "      <th>Idade</th>\n",
              "      <th>Genero</th>\n",
              "      <th>Nivel Ensino</th>\n",
              "      <th>Area Formacao</th>\n",
              "      <th>Setor</th>\n",
              "      <th>Nivel</th>\n",
              "      <th>Faixa Salarial</th>\n",
              "      <th>Anos experiencia</th>\n",
              "      <th>Faixa Salarial – numero</th>\n",
              "      <th>Data ultimo aumento</th>\n",
              "    </tr>\n",
              "  </thead>\n",
              "  <tbody>\n",
              "    <tr>\n",
              "      <th>0</th>\n",
              "      <td>38</td>\n",
              "      <td>Masculino</td>\n",
              "      <td>Pós-graduação</td>\n",
              "      <td>Química / Física</td>\n",
              "      <td>Marketing</td>\n",
              "      <td>Gestor</td>\n",
              "      <td>de R$ 4.001/mês a R$ 6.000/mês</td>\n",
              "      <td>Mais de 10 anos</td>\n",
              "      <td>6000</td>\n",
              "      <td>02/01/21</td>\n",
              "    </tr>\n",
              "    <tr>\n",
              "      <th>1</th>\n",
              "      <td>39</td>\n",
              "      <td>Masculino</td>\n",
              "      <td>Pós-graduação</td>\n",
              "      <td>Economia/ Administração / Contabilidade / Fina...</td>\n",
              "      <td>Consultoria</td>\n",
              "      <td>Gestor</td>\n",
              "      <td>de R$ 6.001/mês a R$ 8.000/mês</td>\n",
              "      <td>de 2 a 3 anos</td>\n",
              "      <td>8000</td>\n",
              "      <td>06/04/21</td>\n",
              "    </tr>\n",
              "    <tr>\n",
              "      <th>2</th>\n",
              "      <td>30</td>\n",
              "      <td>Masculino</td>\n",
              "      <td>Pós-graduação</td>\n",
              "      <td>Computação / Engenharia de Software / Sistemas...</td>\n",
              "      <td>Indústria</td>\n",
              "      <td>Gestor</td>\n",
              "      <td>de R$ 8.001/mês a R$ 12.000/mês</td>\n",
              "      <td>de 1 a 2 anos</td>\n",
              "      <td>12000</td>\n",
              "      <td>15/04/23</td>\n",
              "    </tr>\n",
              "    <tr>\n",
              "      <th>3</th>\n",
              "      <td>38</td>\n",
              "      <td>Feminino</td>\n",
              "      <td>Pós-graduação</td>\n",
              "      <td>Outras</td>\n",
              "      <td>Serviços</td>\n",
              "      <td>Gestor</td>\n",
              "      <td>de R$ 12.001/mês a R$ 16.000/mês</td>\n",
              "      <td>Mais de 10 anos</td>\n",
              "      <td>16000</td>\n",
              "      <td>04/06/21</td>\n",
              "    </tr>\n",
              "    <tr>\n",
              "      <th>4</th>\n",
              "      <td>36</td>\n",
              "      <td>Masculino</td>\n",
              "      <td>Pós-graduação</td>\n",
              "      <td>Outras Engenharias</td>\n",
              "      <td>Varejo</td>\n",
              "      <td>Gestor</td>\n",
              "      <td>de R$ 8.001/mês a R$ 12.000/mês</td>\n",
              "      <td>de 1 a 2 anos</td>\n",
              "      <td>12000</td>\n",
              "      <td>22/03/23</td>\n",
              "    </tr>\n",
              "  </tbody>\n",
              "</table>\n",
              "</div>"
            ],
            "text/plain": [
              "   Idade     Genero   Nivel Ensino  \\\n",
              "0     38  Masculino  Pós-graduação   \n",
              "1     39  Masculino  Pós-graduação   \n",
              "2     30  Masculino  Pós-graduação   \n",
              "3     38   Feminino  Pós-graduação   \n",
              "4     36  Masculino  Pós-graduação   \n",
              "\n",
              "                                       Area Formacao        Setor   Nivel  \\\n",
              "0                                   Química / Física    Marketing  Gestor   \n",
              "1  Economia/ Administração / Contabilidade / Fina...  Consultoria  Gestor   \n",
              "2  Computação / Engenharia de Software / Sistemas...    Indústria  Gestor   \n",
              "3                                             Outras     Serviços  Gestor   \n",
              "4                                 Outras Engenharias       Varejo  Gestor   \n",
              "\n",
              "                     Faixa Salarial Anos experiencia  Faixa Salarial – numero  \\\n",
              "0    de R$ 4.001/mês a R$ 6.000/mês  Mais de 10 anos                     6000   \n",
              "1    de R$ 6.001/mês a R$ 8.000/mês    de 2 a 3 anos                     8000   \n",
              "2   de R$ 8.001/mês a R$ 12.000/mês    de 1 a 2 anos                    12000   \n",
              "3  de R$ 12.001/mês a R$ 16.000/mês  Mais de 10 anos                    16000   \n",
              "4   de R$ 8.001/mês a R$ 12.000/mês    de 1 a 2 anos                    12000   \n",
              "\n",
              "  Data ultimo aumento  \n",
              "0            02/01/21  \n",
              "1            06/04/21  \n",
              "2            15/04/23  \n",
              "3            04/06/21  \n",
              "4            22/03/23  "
            ]
          },
          "execution_count": 5,
          "metadata": {},
          "output_type": "execute_result"
        }
      ],
      "source": [
        "# Imprimindo as 5 primeiras linhas\n",
        "dados.head()"
      ]
    },
    {
      "cell_type": "code",
      "execution_count": 6,
      "metadata": {},
      "outputs": [
        {
          "data": {
            "text/plain": [
              "(1385, 10)"
            ]
          },
          "execution_count": 6,
          "metadata": {},
          "output_type": "execute_result"
        }
      ],
      "source": [
        "# Observando número de linhas e colunas\n",
        "dados.shape"
      ]
    },
    {
      "cell_type": "markdown",
      "metadata": {
        "id": "-_Y0vCZaWx3x"
      },
      "source": [
        "Resumo dos dados: 1385 linhas e 10 colunas (variáveis)"
      ]
    },
    {
      "cell_type": "markdown",
      "metadata": {},
      "source": [
        "---\n",
        "## Parte 3: Análise Exploratória dos Dados (AED)"
      ]
    },
    {
      "cell_type": "markdown",
      "metadata": {},
      "source": [
        "#### Ter uma primeira visão sobre os dados e extrair os primeiros insights"
      ]
    },
    {
      "cell_type": "code",
      "execution_count": 7,
      "metadata": {},
      "outputs": [
        {
          "data": {
            "text/plain": [
              "Idade                       int64\n",
              "Genero                     object\n",
              "Nivel Ensino               object\n",
              "Area Formacao              object\n",
              "Setor                      object\n",
              "Nivel                      object\n",
              "Faixa Salarial             object\n",
              "Anos experiencia           object\n",
              "Faixa Salarial – numero     int64\n",
              "Data ultimo aumento        object\n",
              "dtype: object"
            ]
          },
          "execution_count": 7,
          "metadata": {},
          "output_type": "execute_result"
        }
      ],
      "source": [
        "# Imprime o tipo de dado em cada coluna: object - variáveis categóricas; float64 e int64 - variáveis numéricas\n",
        "dados.dtypes"
      ]
    },
    {
      "cell_type": "code",
      "execution_count": 8,
      "metadata": {},
      "outputs": [],
      "source": [
        "# Coluna Data ultimo aumento está como varivável de texto. É preciso transformá-la para data\n",
        "# Função to_datetime do Pandas\n",
        "dados['Data ultimo aumento'] = pd.to_datetime(dados['Data ultimo aumento'])"
      ]
    },
    {
      "cell_type": "code",
      "execution_count": 10,
      "metadata": {},
      "outputs": [
        {
          "data": {
            "text/html": [
              "<div>\n",
              "<style scoped>\n",
              "    .dataframe tbody tr th:only-of-type {\n",
              "        vertical-align: middle;\n",
              "    }\n",
              "\n",
              "    .dataframe tbody tr th {\n",
              "        vertical-align: top;\n",
              "    }\n",
              "\n",
              "    .dataframe thead th {\n",
              "        text-align: right;\n",
              "    }\n",
              "</style>\n",
              "<table border=\"1\" class=\"dataframe\">\n",
              "  <thead>\n",
              "    <tr style=\"text-align: right;\">\n",
              "      <th></th>\n",
              "      <th>Idade</th>\n",
              "      <th>Genero</th>\n",
              "      <th>Nivel Ensino</th>\n",
              "      <th>Area Formacao</th>\n",
              "      <th>Setor</th>\n",
              "      <th>Nivel</th>\n",
              "      <th>Faixa Salarial</th>\n",
              "      <th>Anos experiencia</th>\n",
              "      <th>Faixa Salarial – numero</th>\n",
              "      <th>Data ultimo aumento</th>\n",
              "    </tr>\n",
              "  </thead>\n",
              "  <tbody>\n",
              "    <tr>\n",
              "      <th>0</th>\n",
              "      <td>38</td>\n",
              "      <td>Masculino</td>\n",
              "      <td>Pós-graduação</td>\n",
              "      <td>Química / Física</td>\n",
              "      <td>Marketing</td>\n",
              "      <td>Gestor</td>\n",
              "      <td>de R$ 4.001/mês a R$ 6.000/mês</td>\n",
              "      <td>Mais de 10 anos</td>\n",
              "      <td>6000</td>\n",
              "      <td>2021-02-01</td>\n",
              "    </tr>\n",
              "    <tr>\n",
              "      <th>1</th>\n",
              "      <td>39</td>\n",
              "      <td>Masculino</td>\n",
              "      <td>Pós-graduação</td>\n",
              "      <td>Economia/ Administração / Contabilidade / Fina...</td>\n",
              "      <td>Consultoria</td>\n",
              "      <td>Gestor</td>\n",
              "      <td>de R$ 6.001/mês a R$ 8.000/mês</td>\n",
              "      <td>de 2 a 3 anos</td>\n",
              "      <td>8000</td>\n",
              "      <td>2021-06-04</td>\n",
              "    </tr>\n",
              "    <tr>\n",
              "      <th>2</th>\n",
              "      <td>30</td>\n",
              "      <td>Masculino</td>\n",
              "      <td>Pós-graduação</td>\n",
              "      <td>Computação / Engenharia de Software / Sistemas...</td>\n",
              "      <td>Indústria</td>\n",
              "      <td>Gestor</td>\n",
              "      <td>de R$ 8.001/mês a R$ 12.000/mês</td>\n",
              "      <td>de 1 a 2 anos</td>\n",
              "      <td>12000</td>\n",
              "      <td>2023-04-15</td>\n",
              "    </tr>\n",
              "    <tr>\n",
              "      <th>3</th>\n",
              "      <td>38</td>\n",
              "      <td>Feminino</td>\n",
              "      <td>Pós-graduação</td>\n",
              "      <td>Outras</td>\n",
              "      <td>Serviços</td>\n",
              "      <td>Gestor</td>\n",
              "      <td>de R$ 12.001/mês a R$ 16.000/mês</td>\n",
              "      <td>Mais de 10 anos</td>\n",
              "      <td>16000</td>\n",
              "      <td>2021-04-06</td>\n",
              "    </tr>\n",
              "    <tr>\n",
              "      <th>4</th>\n",
              "      <td>36</td>\n",
              "      <td>Masculino</td>\n",
              "      <td>Pós-graduação</td>\n",
              "      <td>Outras Engenharias</td>\n",
              "      <td>Varejo</td>\n",
              "      <td>Gestor</td>\n",
              "      <td>de R$ 8.001/mês a R$ 12.000/mês</td>\n",
              "      <td>de 1 a 2 anos</td>\n",
              "      <td>12000</td>\n",
              "      <td>2023-03-22</td>\n",
              "    </tr>\n",
              "  </tbody>\n",
              "</table>\n",
              "</div>"
            ],
            "text/plain": [
              "   Idade     Genero   Nivel Ensino  \\\n",
              "0     38  Masculino  Pós-graduação   \n",
              "1     39  Masculino  Pós-graduação   \n",
              "2     30  Masculino  Pós-graduação   \n",
              "3     38   Feminino  Pós-graduação   \n",
              "4     36  Masculino  Pós-graduação   \n",
              "\n",
              "                                       Area Formacao        Setor   Nivel  \\\n",
              "0                                   Química / Física    Marketing  Gestor   \n",
              "1  Economia/ Administração / Contabilidade / Fina...  Consultoria  Gestor   \n",
              "2  Computação / Engenharia de Software / Sistemas...    Indústria  Gestor   \n",
              "3                                             Outras     Serviços  Gestor   \n",
              "4                                 Outras Engenharias       Varejo  Gestor   \n",
              "\n",
              "                     Faixa Salarial Anos experiencia  Faixa Salarial – numero  \\\n",
              "0    de R$ 4.001/mês a R$ 6.000/mês  Mais de 10 anos                     6000   \n",
              "1    de R$ 6.001/mês a R$ 8.000/mês    de 2 a 3 anos                     8000   \n",
              "2   de R$ 8.001/mês a R$ 12.000/mês    de 1 a 2 anos                    12000   \n",
              "3  de R$ 12.001/mês a R$ 16.000/mês  Mais de 10 anos                    16000   \n",
              "4   de R$ 8.001/mês a R$ 12.000/mês    de 1 a 2 anos                    12000   \n",
              "\n",
              "  Data ultimo aumento  \n",
              "0          2021-02-01  \n",
              "1          2021-06-04  \n",
              "2          2023-04-15  \n",
              "3          2021-04-06  \n",
              "4          2023-03-22  "
            ]
          },
          "execution_count": 10,
          "metadata": {},
          "output_type": "execute_result"
        }
      ],
      "source": [
        "# Verificando a alteração\n",
        "dados.head()"
      ]
    },
    {
      "cell_type": "code",
      "execution_count": 15,
      "metadata": {},
      "outputs": [],
      "source": [
        "# Criando categorias para separar colunas numéricas e categóricas: facilita a AED\n",
        "numericas_cols = [col for col in dados.columns if dados[col].dtype != 'object']\n",
        "categoricas_cols = [col for col in dados.columns if dados[col].dtype == 'object']"
      ]
    },
    {
      "cell_type": "code",
      "execution_count": 16,
      "metadata": {},
      "outputs": [
        {
          "data": {
            "text/html": [
              "<div>\n",
              "<style scoped>\n",
              "    .dataframe tbody tr th:only-of-type {\n",
              "        vertical-align: middle;\n",
              "    }\n",
              "\n",
              "    .dataframe tbody tr th {\n",
              "        vertical-align: top;\n",
              "    }\n",
              "\n",
              "    .dataframe thead th {\n",
              "        text-align: right;\n",
              "    }\n",
              "</style>\n",
              "<table border=\"1\" class=\"dataframe\">\n",
              "  <thead>\n",
              "    <tr style=\"text-align: right;\">\n",
              "      <th></th>\n",
              "      <th>Idade</th>\n",
              "      <th>Faixa Salarial – numero</th>\n",
              "      <th>Data ultimo aumento</th>\n",
              "    </tr>\n",
              "  </thead>\n",
              "  <tbody>\n",
              "    <tr>\n",
              "      <th>count</th>\n",
              "      <td>1385.000000</td>\n",
              "      <td>1385.000000</td>\n",
              "      <td>1385</td>\n",
              "    </tr>\n",
              "    <tr>\n",
              "      <th>mean</th>\n",
              "      <td>30.779783</td>\n",
              "      <td>9992.779783</td>\n",
              "      <td>2022-06-15 08:25:17.978339328</td>\n",
              "    </tr>\n",
              "    <tr>\n",
              "      <th>min</th>\n",
              "      <td>18.000000</td>\n",
              "      <td>1000.000000</td>\n",
              "      <td>2021-01-01 00:00:00</td>\n",
              "    </tr>\n",
              "    <tr>\n",
              "      <th>25%</th>\n",
              "      <td>26.000000</td>\n",
              "      <td>6000.000000</td>\n",
              "      <td>2021-09-19 00:00:00</td>\n",
              "    </tr>\n",
              "    <tr>\n",
              "      <th>50%</th>\n",
              "      <td>29.000000</td>\n",
              "      <td>8000.000000</td>\n",
              "      <td>2022-06-09 00:00:00</td>\n",
              "    </tr>\n",
              "    <tr>\n",
              "      <th>75%</th>\n",
              "      <td>34.000000</td>\n",
              "      <td>12000.000000</td>\n",
              "      <td>2023-03-05 00:00:00</td>\n",
              "    </tr>\n",
              "    <tr>\n",
              "      <th>max</th>\n",
              "      <td>54.000000</td>\n",
              "      <td>45000.000000</td>\n",
              "      <td>2023-12-28 00:00:00</td>\n",
              "    </tr>\n",
              "    <tr>\n",
              "      <th>std</th>\n",
              "      <td>6.869018</td>\n",
              "      <td>7353.675097</td>\n",
              "      <td>NaN</td>\n",
              "    </tr>\n",
              "  </tbody>\n",
              "</table>\n",
              "</div>"
            ],
            "text/plain": [
              "             Idade  Faixa Salarial – numero            Data ultimo aumento\n",
              "count  1385.000000              1385.000000                           1385\n",
              "mean     30.779783              9992.779783  2022-06-15 08:25:17.978339328\n",
              "min      18.000000              1000.000000            2021-01-01 00:00:00\n",
              "25%      26.000000              6000.000000            2021-09-19 00:00:00\n",
              "50%      29.000000              8000.000000            2022-06-09 00:00:00\n",
              "75%      34.000000             12000.000000            2023-03-05 00:00:00\n",
              "max      54.000000             45000.000000            2023-12-28 00:00:00\n",
              "std       6.869018              7353.675097                            NaN"
            ]
          },
          "execution_count": 16,
          "metadata": {},
          "output_type": "execute_result"
        }
      ],
      "source": [
        "# Resumo das variáveis numéricas - Imprime alguns valores de medidas de tendências centrais \n",
        "dados[numericas_cols].describe()"
      ]
    },
    {
      "cell_type": "code",
      "execution_count": null,
      "metadata": {},
      "outputs": [],
      "source": [
        "# Resumo das variáveis categóricas - Imprime alguns valores de estatística descritiva\n",
        "dados[categoricas_cols].describe()"
      ]
    },
    {
      "cell_type": "code",
      "execution_count": 13,
      "metadata": {},
      "outputs": [
        {
          "data": {
            "text/plain": [
              "Idade                      False\n",
              "Genero                     False\n",
              "Nivel Ensino               False\n",
              "Area Formacao               True\n",
              "Setor                      False\n",
              "Nivel                      False\n",
              "Faixa Salarial             False\n",
              "Anos experiencia           False\n",
              "Faixa Salarial – numero    False\n",
              "Data ultimo aumento        False\n",
              "dtype: bool"
            ]
          },
          "execution_count": 13,
          "metadata": {},
          "output_type": "execute_result"
        }
      ],
      "source": [
        "# Verificando se existem valores faltantes nos dados \n",
        "dados.isna().any()"
      ]
    },
    {
      "cell_type": "code",
      "execution_count": 14,
      "metadata": {},
      "outputs": [
        {
          "data": {
            "text/plain": [
              "Idade                       0\n",
              "Genero                      0\n",
              "Nivel Ensino                0\n",
              "Area Formacao              24\n",
              "Setor                       0\n",
              "Nivel                       0\n",
              "Faixa Salarial              0\n",
              "Anos experiencia            0\n",
              "Faixa Salarial – numero     0\n",
              "Data ultimo aumento         0\n",
              "dtype: int64"
            ]
          },
          "execution_count": 14,
          "metadata": {},
          "output_type": "execute_result"
        }
      ],
      "source": [
        "# Verificando a quantidade de valores faltantes por coluna\n",
        "dados.isna().sum()"
      ]
    },
    {
      "cell_type": "code",
      "execution_count": null,
      "metadata": {},
      "outputs": [],
      "source": [
        "# Substituir os valores faltantes por \"Nada consta\". Argumento inplace = true significa que a modificação será aplicada  \n",
        "# Na mesma variável - chamada dados - sem precisar criar outra variável (dados_2, dados_V2, etc)\n",
        "dados['Area Formacao'].fillna('Nada Consta', inplace=True)"
      ]
    },
    {
      "cell_type": "code",
      "execution_count": null,
      "metadata": {},
      "outputs": [],
      "source": [
        "# Ou então, podemos excluir a coluna com valor faltante, se não for relevante para a análise (atenção ao fazer isso)\n",
        "dados.drop('Area Formacao', axis=1, inplace=True)\n",
        "\n",
        "## axis = 1 - sentido da coluna; axis = 2 - sentido das linhas"
      ]
    },
    {
      "cell_type": "code",
      "execution_count": null,
      "metadata": {},
      "outputs": [],
      "source": [
        "# Depois das correções, verificando se ainda há valores faltantes\n",
        "dados.isna().sum()"
      ]
    },
    {
      "cell_type": "code",
      "execution_count": null,
      "metadata": {},
      "outputs": [],
      "source": [
        "# Verificando se temos valores duplicados\n",
        "dados.duplicated().sum() "
      ]
    },
    {
      "cell_type": "code",
      "execution_count": null,
      "metadata": {},
      "outputs": [],
      "source": [
        "# Removendo valores duplicados\n",
        "dados.drop_duplicates(inplace=True)"
      ]
    },
    {
      "cell_type": "code",
      "execution_count": null,
      "metadata": {},
      "outputs": [],
      "source": [
        "# nº de linhas e colunas após mudanças. Caso houvesse dados duplicados, o número de linhas seria reduzido\n",
        "dados.shape"
      ]
    },
    {
      "cell_type": "code",
      "execution_count": null,
      "metadata": {},
      "outputs": [],
      "source": [
        "# Contagem de valores por categoria de 'Nivel'\n",
        "dados['Nivel'].value_counts()"
      ]
    },
    {
      "cell_type": "code",
      "execution_count": null,
      "metadata": {},
      "outputs": [],
      "source": [
        "# Contagem de valores por categoria de 'Faixa Salarial'\n",
        "dados['Faixa Salarial'].value_counts()"
      ]
    },
    {
      "cell_type": "code",
      "execution_count": null,
      "metadata": {},
      "outputs": [],
      "source": [
        "# Criando uma nova coluna\n",
        "# Função para calcular a média salarial dos funcionários\n",
        "dados['Média Salarial'] = dados['Faixa Salarial – numero'].mean().round()"
      ]
    },
    {
      "cell_type": "code",
      "execution_count": null,
      "metadata": {},
      "outputs": [],
      "source": [
        "# Resultado após inserção de nova coluna\n",
        "dados.head()"
      ]
    },
    {
      "cell_type": "markdown",
      "metadata": {},
      "source": [
        "---\n",
        "## Parte 4: Visualização dos resultados"
      ]
    },
    {
      "cell_type": "markdown",
      "metadata": {
        "id": "jow4o6M-Sph8"
      },
      "source": [
        "#### O que queremos responder com esses dados?"
      ]
    },
    {
      "cell_type": "markdown",
      "metadata": {
        "id": "8XCjYK45Sph8"
      },
      "source": [
        "### 1. Distribuição do nº de funcionários por sexo, nível de senioridade e nível de formação"
      ]
    },
    {
      "cell_type": "markdown",
      "metadata": {
        "id": "CbJH6VQ6rRHx"
      },
      "source": [
        "Podemos fazer um gráfico com a distribuição de homens e mulheres"
      ]
    },
    {
      "cell_type": "code",
      "execution_count": null,
      "metadata": {
        "colab": {
          "base_uri": "https://localhost:8080/"
        },
        "collapsed": true,
        "id": "PRJSP9xcSph9",
        "outputId": "8b516048-63e1-455c-c65f-0e70aeecf1db"
      },
      "outputs": [],
      "source": [
        "# Contagem do nº de homens e mulheres na empresa\n",
        "dados['Genero'].value_counts()"
      ]
    },
    {
      "cell_type": "code",
      "execution_count": null,
      "metadata": {
        "colab": {
          "base_uri": "https://localhost:8080/",
          "height": 314
        },
        "id": "OQwBJJqXh4Gi",
        "outputId": "a813a73a-9d94-4ea8-fab0-7ef99924e15a"
      },
      "outputs": [],
      "source": [
        "# Gráfico da distribuição por gênero - plt é a biblioteca Matplotlib\n",
        "plt.figure(figsize=(20,10)) # Aumentar o tamanho da figura na saída dos dados\n",
        "plt.bar(dados['Genero'].unique(), dados['Genero'].value_counts()) # plt.bar para gráfico de barras. Variáveis nos eixos X e Y\n",
        "plt.title('Distribuição de funcionários - Homens e Mulheres') # plt.title para inserir título no gráfico\n",
        "plt.ylabel('Total de funcionários'); # # plt.ylabel para inserir título no gráfico"
      ]
    },
    {
      "cell_type": "markdown",
      "metadata": {
        "id": "uTzH-6EniFZT"
      },
      "source": [
        "Vamos gerar esse gráfico de um jeito mais bonito"
      ]
    },
    {
      "cell_type": "markdown",
      "metadata": {
        "id": "rMyBlTho7Lls"
      },
      "source": [
        "Link de palletes do seaborn: [Palettes](https://seaborn.pydata.org/tutorial/color_palettes.html?highlight=palette)"
      ]
    },
    {
      "cell_type": "code",
      "execution_count": null,
      "metadata": {
        "colab": {
          "base_uri": "https://localhost:8080/",
          "height": 314
        },
        "id": "UtjSpUxBh80B",
        "outputId": "47841c65-6177-47fe-da53-ca5cba182882"
      },
      "outputs": [],
      "source": [
        "# Gráfico da biblioteca sns - Seaborn\n",
        "\n",
        "# sns.countplot para criar gráfico de barras. Eixo X é a contagem (número de valores), eixo Y é a coluna de ordenação\n",
        "# index para ordenar os valores\n",
        "plt.figure(figsize=(20,10))\n",
        "sns.countplot(y=\"Genero\", data=dados, order=dados['Genero'].value_counts().index) \\\n",
        ".set_title(\"Distribuição de funcionários - Homens e Mulheres\"); # set.title para inserir nome do gráfico"
      ]
    },
    {
      "cell_type": "markdown",
      "metadata": {},
      "source": [
        "Agora, de acordo com o nível de formação"
      ]
    },
    {
      "cell_type": "code",
      "execution_count": null,
      "metadata": {},
      "outputs": [],
      "source": [
        "plt.figure(figsize=(20,10))\n",
        "plt.bar(dados['Nivel Ensino'].unique(), dados['Nivel Ensino'].value_counts()) # Variavel Nivel Ensino no eixo X\n",
        "plt.title('Distribuição de funcionários por nível de formação') # Inserção do título\n",
        "plt.ylabel('Total de funcionários') # Rótulo do eixo Y\n",
        "plt.xticks(rotation=90); # xticks para indicar a rotação do texto no eixo X (90 graus)"
      ]
    },
    {
      "cell_type": "markdown",
      "metadata": {},
      "source": [
        "Agora por nível de senioridade"
      ]
    },
    {
      "cell_type": "code",
      "execution_count": null,
      "metadata": {},
      "outputs": [],
      "source": [
        "plt.figure(figsize=(20,10))\n",
        "plt.bar(dados['Nivel'].unique(), dados['Nivel'].value_counts())\n",
        "plt.title('Distribuição de funcionários por nível de senioridade')\n",
        "plt.ylabel('Total de funcionários');"
      ]
    },
    {
      "cell_type": "markdown",
      "metadata": {
        "id": "9JXxTx3SSph_"
      },
      "source": [
        "---\n",
        "### 2. Evolução da média salarial ao longo do tempo, com base na data de último aumento"
      ]
    },
    {
      "cell_type": "code",
      "execution_count": null,
      "metadata": {},
      "outputs": [],
      "source": [
        "# Criando uma coluna somente com o ano de aumento\n",
        "dados['Data ultimo aumento - Ano']=dados['Data ultimo aumento'].dt.year"
      ]
    },
    {
      "cell_type": "code",
      "execution_count": null,
      "metadata": {},
      "outputs": [],
      "source": [
        "# Transformando a coluna ano em categoria\n",
        "dados['Data ultimo aumento - Ano'] = dados['Data ultimo aumento - Ano'].astype(str)\n",
        "dados.dtypes"
      ]
    },
    {
      "cell_type": "code",
      "execution_count": null,
      "metadata": {},
      "outputs": [],
      "source": [
        "# Calculando a média por ano (coluna Data ultimo aumento - Ano) para saber se os salários aumentaram ou diminuíram entre 2021 e 2023\n",
        "media_salarial_ano = dados.groupby(['Data ultimo aumento - Ano', 'Genero'])['Faixa Salarial – numero'].mean().round(0) # round para arrendodar\n",
        "media_salarial_ano.head()"
      ]
    },
    {
      "cell_type": "code",
      "execution_count": null,
      "metadata": {},
      "outputs": [],
      "source": [
        "# Utilizando a função reset_index para criar uma ordem e facilitar a criação do gráfico\n",
        "media_salarial_ano = media_salarial_ano.reset_index(name='Salario Medio')\n",
        "media_salarial_ano.head()"
      ]
    },
    {
      "cell_type": "code",
      "execution_count": null,
      "metadata": {},
      "outputs": [],
      "source": [
        "# Visualizando a média salarial por ano\n",
        "plt.figure(figsize=(20,10)) # Aumentar tamanho da imagem que será impressa na tela\n",
        "sns.barplot(x='Data ultimo aumento - Ano', y='Salario Medio', hue='Genero', data=media_salarial_ano, hue_order=['Masculino', 'Feminino'])\n",
        "plt.xticks(rotation=45);"
      ]
    },
    {
      "cell_type": "markdown",
      "metadata": {},
      "source": [
        "#### Houve um aumento médio no salário dos funcionários entre 2021 e 2022. Entre 2022 e 2023, houve uma queda"
      ]
    },
    {
      "cell_type": "markdown",
      "metadata": {},
      "source": [
        "---\n",
        "### 3. Distribuição salarial por nível de senioridade e gênero"
      ]
    },
    {
      "cell_type": "code",
      "execution_count": null,
      "metadata": {},
      "outputs": [],
      "source": [
        "# Agrupamento por gênero e nível do cargo - Júnior, Pleno, Sênior e Gestão\n",
        "# Cálculo da média por nível do cargo e gênero\n",
        "media_nivel_cargo = dados.groupby(['Genero', 'Nivel'])['Faixa Salarial – numero'].mean()\n",
        "media_nivel_cargo.head()"
      ]
    },
    {
      "cell_type": "code",
      "execution_count": null,
      "metadata": {},
      "outputs": [],
      "source": [
        "# Utilizando a função reset_index para criar uma ordem e facilitar a criação do gráfico\n",
        "media_nivel_cargo = media_nivel_cargo.reset_index(name='Salario Medio')\n",
        "media_nivel_cargo.head()"
      ]
    },
    {
      "cell_type": "code",
      "execution_count": null,
      "metadata": {},
      "outputs": [],
      "source": [
        "# Visualizando a média salarial por nível do cargo\n",
        "plt.figure(figsize=(20,10))\n",
        "sns.barplot(x='Nivel', y='Salario Medio', hue='Genero', data=media_nivel_cargo, hue_order=['Masculino', 'Feminino']);"
      ]
    },
    {
      "cell_type": "markdown",
      "metadata": {},
      "source": [
        "---\n",
        "### 4. Distribuição salarial por anos de experiência e gênero"
      ]
    },
    {
      "cell_type": "markdown",
      "metadata": {
        "id": "RchCPBck4PTl"
      },
      "source": [
        "### Vamos analisar os salários\n",
        "\n",
        "Primeiro vamos fazer um histograma para analisar a distribuição geral dos salários"
      ]
    },
    {
      "cell_type": "code",
      "execution_count": null,
      "metadata": {
        "colab": {
          "base_uri": "https://localhost:8080/",
          "height": 282
        },
        "id": "hA6LYRLA3EOR",
        "outputId": "7a3a8e11-df9f-42a7-971b-cca0d3af05ad"
      },
      "outputs": [],
      "source": [
        "dados['Faixa Salarial – numero'].hist()"
      ]
    },
    {
      "cell_type": "code",
      "execution_count": null,
      "metadata": {},
      "outputs": [],
      "source": [
        "# Agrupamento por gênero e anos de experiência\n",
        "# Cálculo da média por anos de experiência e gênero\n",
        "media_anos_experiencia = dados.groupby(['Genero', 'Anos experiencia'])['Faixa Salarial – numero'].mean()\n",
        "media_anos_experiencia.head()"
      ]
    },
    {
      "cell_type": "code",
      "execution_count": null,
      "metadata": {},
      "outputs": [],
      "source": [
        "# Utilizando a função reset_index para criar uma ordem e facilitar a criação do gráfico\n",
        "media_anos_experiencia = media_anos_experiencia.reset_index(name='Salario Medio')\n",
        "media_anos_experiencia.head()"
      ]
    },
    {
      "cell_type": "code",
      "execution_count": null,
      "metadata": {},
      "outputs": [],
      "source": [
        "# Visualizando a média salarial por nível do cargo\n",
        "plt.figure(figsize=(20,10))\n",
        "sns.barplot(x='Anos experiencia', y='Salario Medio', hue='Genero', data=media_anos_experiencia, hue_order=['Masculino', 'Feminino']);"
      ]
    },
    {
      "cell_type": "markdown",
      "metadata": {},
      "source": [
        "---\n",
        "#### Fim do código\n",
        "#### Obrigada!  \n",
        "#### Profa. Luani R O Piva - https://www.linkedin.com/in/luanipiva/"
      ]
    },
    {
      "cell_type": "markdown",
      "metadata": {},
      "source": [
        "---\n",
        "# Bônus"
      ]
    },
    {
      "cell_type": "markdown",
      "metadata": {
        "id": "G-mHQFYrGS93"
      },
      "source": [
        "### Análise da diferença de salário por nível de escolaridade"
      ]
    },
    {
      "cell_type": "code",
      "execution_count": null,
      "metadata": {
        "id": "816FsTM6GS94"
      },
      "outputs": [],
      "source": [
        "# Agrupamento por gênero e nível de escolaridade\n",
        "# Cálculo da média por nível de escolaridade e gênero\n",
        "media_nivel_escolaridade = dados.groupby(['Genero', 'Nivel Ensino'])['Faixa Salarial – numero'].mean()\n",
        "media_nivel_escolaridade = media_nivel_escolaridade.reset_index(name='Salario Medio')"
      ]
    },
    {
      "cell_type": "code",
      "execution_count": null,
      "metadata": {
        "colab": {
          "base_uri": "https://localhost:8080/",
          "height": 623
        },
        "id": "KyHQ6hcTGS95",
        "outputId": "9c74b032-241d-46bd-eccb-91c505271963"
      },
      "outputs": [],
      "source": [
        "# Gráfico da média salarial por nível de escolaridade\n",
        "plt.figure(figsize=(20,10))\n",
        "sns.barplot(x='Nivel Ensino', y='Salario Medio', hue='Genero', data=media_nivel_escolaridade,\n",
        "order=['Doutorado ou Phd', 'Estudante de Graduação', 'Graduação/Bacharelado','Mestrado', 'Não tenho graduação formal'], \n",
        "hue_order=['Masculino', 'Feminino']);"
      ]
    }
  ],
  "metadata": {
    "colab": {
      "provenance": []
    },
    "kernelspec": {
      "display_name": "Python 3.8.10 64-bit",
      "language": "python",
      "name": "python3"
    },
    "language_info": {
      "codemirror_mode": {
        "name": "ipython",
        "version": 3
      },
      "file_extension": ".py",
      "mimetype": "text/x-python",
      "name": "python",
      "nbconvert_exporter": "python",
      "pygments_lexer": "ipython3",
      "version": "3.12.2"
    },
    "vscode": {
      "interpreter": {
        "hash": "916dbcbb3f70747c44a77c7bcd40155683ae19c65e1c03b4aa3499c5328201f1"
      }
    }
  },
  "nbformat": 4,
  "nbformat_minor": 0
}
